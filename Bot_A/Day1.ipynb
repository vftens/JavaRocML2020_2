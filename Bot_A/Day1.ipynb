{
 "cells": [
  {
   "cell_type": "code",
   "execution_count": 1,
   "metadata": {},
   "outputs": [],
   "source": [
    "import random\n",
    "import nltk"
   ]
  },
  {
   "cell_type": "code",
   "execution_count": 2,
   "metadata": {},
   "outputs": [],
   "source": [
    "BOT_CONFIG = {\n",
    "    'intents': {\n",
    "        'hello': {\n",
    "            'examples': ['Привет', 'Добрый день', 'Добрый вечер', 'Здравствуйте', 'Шалом', 'Приветики'],\n",
    "            'responses': ['Привет, человек!', 'Здравствуйте']\n",
    "        },\n",
    "        'bye': {\n",
    "            'examples': ['Пока', 'Досвидания', 'До свидания', 'Прощайте'],\n",
    "            'responses': ['Еще увидимся', 'Если что, я тут']\n",
    "        },\n",
    "    },\n",
    "\n",
    "    'failure_phrases': [\n",
    "        'Не понятно. Перефразируй, пожалуйста',\n",
    "        'Я еще только учусь. Не умею на такое отвечать',\n",
    "    ]\n",
    "}"
   ]
  },
  {
   "cell_type": "code",
   "execution_count": 3,
   "metadata": {},
   "outputs": [],
   "source": [
    "def clear_text(text):\n",
    "    text = text.lower()\n",
    "    text = ''.join(char for char in text if char in 'абвгдеёжзийклмнопрстуфхцчшщъыьэюя -')\n",
    "    return text"
   ]
  },
  {
   "cell_type": "code",
   "execution_count": 10,
   "metadata": {},
   "outputs": [],
   "source": [
    "def classify_intent(replica):\n",
    "    replica = clear_text(replica)\n",
    "\n",
    "    for intent, intent_data in BOT_CONFIG['intents'].items():\n",
    "        for example in intent_data['examples']:\n",
    "            example = clear_text(example)\n",
    "\n",
    "            distance = nltk.edit_distance(replica, example)\n",
    "\n",
    "            if len(example) and distance / len(example) < 0.3:\n",
    "                return intent"
   ]
  },
  {
   "cell_type": "code",
   "execution_count": 11,
   "metadata": {},
   "outputs": [],
   "source": [
    "def get_answer_by_intent(intent):\n",
    "    if intent in BOT_CONFIG['intents']:\n",
    "        responses = BOT_CONFIG['intents'][intent]['responses']\n",
    "        return random.choice(responses)"
   ]
  },
  {
   "cell_type": "code",
   "execution_count": 12,
   "metadata": {},
   "outputs": [],
   "source": [
    "def generate_answer(replica):\n",
    "    # TODO 3rd day\n",
    "    return"
   ]
  },
  {
   "cell_type": "code",
   "execution_count": 13,
   "metadata": {},
   "outputs": [],
   "source": [
    "def get_stub():\n",
    "    failure_phrases = BOT_CONFIG['failure_phrases']\n",
    "    return random.choice(failure_phrases)"
   ]
  },
  {
   "cell_type": "code",
   "execution_count": 14,
   "metadata": {},
   "outputs": [],
   "source": [
    "def bot(replica):\n",
    "    # NLU\n",
    "    intent = classify_intent(replica)\n",
    "\n",
    "    # Получение ответа\n",
    "\n",
    "    # правила\n",
    "    if intent:\n",
    "        answer = get_answer_by_intent(intent)\n",
    "        if answer:\n",
    "            return answer\n",
    "\n",
    "    # генеративная модель\n",
    "    answer = generate_answer(replica)\n",
    "    if answer:\n",
    "        return answer\n",
    "\n",
    "    # заглушка\n",
    "    answer = get_stub()\n",
    "    return answer"
   ]
  },
  {
   "cell_type": "code",
   "execution_count": 19,
   "metadata": {},
   "outputs": [
    {
     "name": "stdout",
     "output_type": "stream",
     "text": [
      "Джаз\n"
     ]
    }
   ],
   "source": [
    "print(bot('Какую музыку послушать?'))"
   ]
  },
  {
   "cell_type": "code",
   "execution_count": null,
   "metadata": {},
   "outputs": [],
   "source": []
  }
 ],
 "metadata": {
  "kernelspec": {
   "display_name": "Python 3",
   "language": "python",
   "name": "python3"
  },
  "language_info": {
   "codemirror_mode": {
    "name": "ipython",
    "version": 3
   },
   "file_extension": ".py",
   "mimetype": "text/x-python",
   "name": "python",
   "nbconvert_exporter": "python",
   "pygments_lexer": "ipython3",
   "version": "3.7.6"
  }
 },
 "nbformat": 4,
 "nbformat_minor": 4
}
