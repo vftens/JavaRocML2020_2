{
 "cells": [
  {
   "cell_type": "code",
   "execution_count": 21,
   "metadata": {},
   "outputs": [],
   "source": [
    "import nltk"
   ]
  },
  {
   "cell_type": "code",
   "execution_count": 1,
   "metadata": {},
   "outputs": [],
   "source": [
    "with open('dialogues.txt') as dialogues_file:\n",
    "    dialogues_text = dialogues_file.read()"
   ]
  },
  {
   "cell_type": "code",
   "execution_count": 13,
   "metadata": {},
   "outputs": [
    {
     "data": {
      "text/plain": [
       "1034007"
      ]
     },
     "execution_count": 13,
     "metadata": {},
     "output_type": "execute_result"
    }
   ],
   "source": [
    "dialogues = dialogues_text.split('\\n\\n')\n",
    "len(dialogues)"
   ]
  },
  {
   "cell_type": "code",
   "execution_count": 14,
   "metadata": {},
   "outputs": [],
   "source": [
    "def clear_text(text):\n",
    "    text = text.lower()\n",
    "    text = ''.join(char for char in text if char in 'абвгдеёжзийклмнопрстуфхцчшщъыьэюя -')\n",
    "    return text"
   ]
  },
  {
   "cell_type": "code",
   "execution_count": 79,
   "metadata": {},
   "outputs": [],
   "source": [
    "dataset = []  # [[question, answer], ...]\n",
    "questions = set()\n",
    "\n",
    "for dialogue in dialogues:\n",
    "    replicas = dialogue.split('\\n')\n",
    "    replicas = replicas[:2]\n",
    "\n",
    "    if len(replicas) == 2:\n",
    "        question, answer = replicas\n",
    "        question = clear_text(question[2:])\n",
    "        answer = answer[2:]\n",
    "\n",
    "        if len(question) > 0 and question not in questions:\n",
    "            questions.add(question)\n",
    "            dataset.append([question, answer])"
   ]
  },
  {
   "cell_type": "code",
   "execution_count": 80,
   "metadata": {},
   "outputs": [
    {
     "data": {
      "text/plain": [
       "[['пока толстуха', 'Пока, малышка!'],\n",
       " ['этому надо положить конец', 'Это не жизнь!'],\n",
       " ['а ты не помолчишь', 'Замолчу, когда захочу.'],\n",
       " ['это зависит', 'Будет сегодня хорошая погода, Ганьярд?'],\n",
       " ['это твоей жене пришло в голову значит тебе и платить', 'Старина!'],\n",
       " ['сделай мне одолжение и сейчас же рассорься с ее мужем', 'Вот напасть!'],\n",
       " ['знаешь если моя разозлит меня я ей задам', 'Тише!'],\n",
       " ['стой', 'Что они там делают?'],\n",
       " ['пашенька', 'Чего, мам?'],\n",
       " ['радость ты моя пашенька', 'Молодец, Пашка!']]"
      ]
     },
     "execution_count": 80,
     "metadata": {},
     "output_type": "execute_result"
    }
   ],
   "source": [
    "dataset[:10]"
   ]
  },
  {
   "cell_type": "code",
   "execution_count": 81,
   "metadata": {},
   "outputs": [
    {
     "data": {
      "text/plain": [
       "604385"
      ]
     },
     "execution_count": 81,
     "metadata": {},
     "output_type": "execute_result"
    }
   ],
   "source": [
    "len(dataset)"
   ]
  },
  {
   "cell_type": "code",
   "execution_count": 82,
   "metadata": {},
   "outputs": [
    {
     "data": {
      "text/plain": [
       "206022"
      ]
     },
     "execution_count": 82,
     "metadata": {},
     "output_type": "execute_result"
    }
   ],
   "source": [
    "dataset_by_word = {}  # {word: [[question with word, answer], ...], ...}\n",
    "\n",
    "for question, answer in dataset:\n",
    "    words = question.split(' ')\n",
    "    for word in words:\n",
    "        if word not in dataset_by_word:\n",
    "            dataset_by_word[word] = []\n",
    "        dataset_by_word[word].append([question, answer])\n",
    "\n",
    "len(dataset_by_word)"
   ]
  },
  {
   "cell_type": "code",
   "execution_count": 83,
   "metadata": {},
   "outputs": [],
   "source": [
    "dataset_by_word_filtered = {}\n",
    "for word, word_dataset in dataset_by_word.items():\n",
    "    word_dataset.sort(key=lambda pair: len(pair[0]))\n",
    "    dataset_by_word_filtered[word] = word_dataset[:1000]"
   ]
  },
  {
   "cell_type": "code",
   "execution_count": 63,
   "metadata": {},
   "outputs": [],
   "source": [
    "dataset_by_word_count = []  # [[word, count]]\n",
    "for word, word_dataset in dataset_by_word_filtered.items():\n",
    "    dataset_by_word_count.append([word, len(word_dataset)])\n",
    "\n",
    "dataset_by_word_count.sort(key=lambda pair: pair[1], reverse=True)\n",
    "\n",
    "# dataset_by_word_count[:100]"
   ]
  },
  {
   "cell_type": "code",
   "execution_count": 90,
   "metadata": {},
   "outputs": [],
   "source": [
    "def generate_answer(replica):\n",
    "    replica = clear_text(replica)\n",
    "    if not replica:\n",
    "        return\n",
    "\n",
    "    words = set(replica.split(' '))\n",
    "    words_dataset = []\n",
    "    for word in words:\n",
    "        if word in dataset_by_word_filtered:\n",
    "            word_dataset = dataset_by_word_filtered[word]\n",
    "            words_dataset += word_dataset\n",
    "\n",
    "    results = []  # [[question, answer, distance], ...]\n",
    "    for question, answer in words_dataset:\n",
    "        if abs(len(question) - len(replica)) / len(question) < 0.2:\n",
    "            distance = nltk.edit_distance(replica, question)\n",
    "            if distance / len(question) < 0.2:\n",
    "                results.append([question, answer, distance])\n",
    "    \n",
    "    question, answer, distance = min(results, key=lambda three: three[2])\n",
    "    return answer"
   ]
  },
  {
   "cell_type": "code",
   "execution_count": 91,
   "metadata": {},
   "outputs": [
    {
     "data": {
      "text/plain": [
       "'Рея. Рея из Хальдунга.'"
      ]
     },
     "execution_count": 91,
     "metadata": {},
     "output_type": "execute_result"
    }
   ],
   "source": [
    "generate_answer('как тебя зовут?')"
   ]
  },
  {
   "cell_type": "code",
   "execution_count": 68,
   "metadata": {},
   "outputs": [
    {
     "data": {
      "text/plain": [
       "206022"
      ]
     },
     "execution_count": 68,
     "metadata": {},
     "output_type": "execute_result"
    }
   ],
   "source": [
    "len(dataset_by_word_filtered)"
   ]
  },
  {
   "cell_type": "code",
   "execution_count": 70,
   "metadata": {},
   "outputs": [
    {
     "data": {
      "text/plain": [
       "1000"
      ]
     },
     "execution_count": 70,
     "metadata": {},
     "output_type": "execute_result"
    }
   ],
   "source": [
    "len(dataset_by_word_filtered['зовут'])"
   ]
  },
  {
   "cell_type": "code",
   "execution_count": null,
   "metadata": {},
   "outputs": [],
   "source": [
    "аааааааааааааааааааааааааааааааааааааааа\n",
    "bbbbbbbbbbbbbbbbbbbbbbbbbbbbbbbbbbbbbbbbbbbbbbbbbbbbbbbbbbbbbbbbbbbbbbbbbbbbbbbb"
   ]
  },
  {
   "cell_type": "code",
   "execution_count": 92,
   "metadata": {},
   "outputs": [],
   "source": [
    "import random"
   ]
  },
  {
   "cell_type": "code",
   "execution_count": 103,
   "metadata": {},
   "outputs": [
    {
     "data": {
      "text/plain": [
       "4"
      ]
     },
     "execution_count": 103,
     "metadata": {},
     "output_type": "execute_result"
    }
   ],
   "source": [
    "random.randint(2, 19)"
   ]
  },
  {
   "cell_type": "code",
   "execution_count": 102,
   "metadata": {},
   "outputs": [
    {
     "name": "stdout",
     "output_type": "stream",
     "text": [
      "куда везти:фвывыфвфы\n"
     ]
    },
    {
     "data": {
      "text/plain": [
       "'фвывыфвфы'"
      ]
     },
     "execution_count": 102,
     "metadata": {},
     "output_type": "execute_result"
    }
   ],
   "source": [
    "input('куда везти:')"
   ]
  },
  {
   "cell_type": "code",
   "execution_count": null,
   "metadata": {},
   "outputs": [],
   "source": []
  }
 ],
 "metadata": {
  "kernelspec": {
   "display_name": "Python 3",
   "language": "python",
   "name": "python3"
  },
  "language_info": {
   "codemirror_mode": {
    "name": "ipython",
    "version": 3
   },
   "file_extension": ".py",
   "mimetype": "text/x-python",
   "name": "python",
   "nbconvert_exporter": "python",
   "pygments_lexer": "ipython3",
   "version": "3.7.6"
  }
 },
 "nbformat": 4,
 "nbformat_minor": 4
}
